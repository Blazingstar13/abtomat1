{
  "nbformat": 4,
  "nbformat_minor": 0,
  "metadata": {
    "colab": {
      "name": "abtomat1.ipynb",
      "provenance": []
    },
    "kernelspec": {
      "display_name": "Python 3",
      "name": "python3"
    }
  },
  "cells": [
    {
      "cell_type": "code",
      "metadata": {
        "colab": {
          "base_uri": "https://localhost:8080/"
        },
        "id": "zPygBgUhUk_z",
        "outputId": "e91d18b8-86ca-4ce9-ecd8-09ca58414925"
      },
      "source": [
        "#Соврасов Юра, МФ-21\r\n",
        "#Регулярное выражение (число)(символ \"а\")(символ \"/\")(символ \"b\")\r\n",
        "#Привет 1a/b\r\n",
        "class FSM:\r\n",
        "    # инициализация\r\n",
        "    def __init__(self):\r\n",
        "        # множество состояний\r\n",
        "        self.states = [\"wait_digit\",\"wait_a\",\"wait_/\",\"wait_b\", \"error\", \"finish\"]\r\n",
        "        # начальное состояние\r\n",
        "        self.startState = self.states[0] \r\n",
        "        # текущее состояние\r\n",
        "        self.currentState = self.startState        \r\n",
        "        # множество конечных состояний\r\n",
        "        self.endState = self.states[5]\r\n",
        "        \r\n",
        "      \r\n",
        "    # функция перехода состояния\r\n",
        "    def function(self,sym):\r\n",
        "        # ввод числа\r\n",
        "        if sym.isdigit():            \r\n",
        "            if self.currentState == self.startState:\r\n",
        "                self.currentState = self.states[1]\r\n",
        "            else:\r\n",
        "                self.currentState = self.states[4]\r\n",
        "        # ввод символа \"а\"   \r\n",
        "        elif sym == \"a\":\r\n",
        "            \r\n",
        "            if self.currentState == self.states[1]:                \r\n",
        "                self.currentState = self.states[2]                \r\n",
        "            else:\r\n",
        "                self.currentState = self.states[4]\r\n",
        "        # ввод символа \"/\"   \r\n",
        "        elif sym == \"/\":\r\n",
        "            if self.currentState == self.states[2]:\r\n",
        "                self.currentState = self.states[3]                \r\n",
        "            else:\r\n",
        "                self.currentState = self.states[4]\r\n",
        "        # ввод символа \"b\"   \r\n",
        "        elif sym == \"b\":           \r\n",
        "            if self.currentState == self.states[3]:                \r\n",
        "                self.currentState = self.states[5]                  \r\n",
        "            else:\r\n",
        "                self.currentState = self.states[4]        \r\n",
        "    # проверка корректного ввода               \r\n",
        "    def accept(self, u):        \r\n",
        "        for sym in u:\r\n",
        "            self.function(sym)\r\n",
        "        return self.currentState == self.endState\r\n",
        "    \r\n",
        "REX = FSM()\r\n",
        "#True or False\r\n",
        "print(REX.accept(\"4a/b\"))\r\n",
        "print(REX.accept(\"7b/b\"))\r\n"
      ],
      "execution_count": 4,
      "outputs": [
        {
          "output_type": "stream",
          "text": [
            "True\n",
            "False\n"
          ],
          "name": "stdout"
        }
      ]
    }
  ]
}