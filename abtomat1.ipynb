{
  "nbformat": 4,
  "nbformat_minor": 0,
  "metadata": {
    "colab": {
      "name": "abtomat1.ipynb",
      "provenance": []
    },
    "kernelspec": {
      "display_name": "Python 3",
      "name": "python3"
    }
  },
  "cells": [
    {
      "cell_type": "code",
      "metadata": {
        "colab": {
          "base_uri": "https://localhost:8080/"
        },
        "id": "zPygBgUhUk_z",
        "outputId": "221f2ac3-fdb3-40d5-a0e3-7b1cf8175b4b"
      },
      "source": [
        "#Соврасов Юра, МФ-21\r\n",
        "#Пример a/\r\n",
        "\r\n",
        "\r\n",
        "class Acceptor:\r\n",
        "    # инициализация\r\n",
        "    def __init__(self):\r\n",
        "        # множество состояний\r\n",
        "        self.alphabid = set(\"ab/\")\r\n",
        "        self.transition = {1:{'a':1, 'b':2, '/':4},\r\n",
        "                           2:{'a':1, 'b':2, '/':3},\r\n",
        "                           3:{'a':2, 'b':4, '/':3},\r\n",
        "                           4:{'a':1, 'b':1, '/':1}}\r\n",
        "        # начальное состояние\r\n",
        "        self.startState = 1 \r\n",
        "        # текущее состояние\r\n",
        "        self.currentState = self.startState        \r\n",
        "        # множество конечных состояний\r\n",
        "        self.finState = {4}\r\n",
        "        # состояние ошибки\r\n",
        "        self.errorState = set([\"error\"])\r\n",
        "        #переход\r\n",
        "        self.states = {1,2,3,4}\r\n",
        "      \r\n",
        "                        \r\n",
        "    # проверка корректного ввода               \r\n",
        "    def accept(self, u):\r\n",
        "        cs = self.startState\r\n",
        "        for sym in u:\r\n",
        "            if (sym in self.alphabid) == False:\r\n",
        "                return False \r\n",
        "            cs = self.transition[cs][sym]            \r\n",
        "        return cs in self.finState\r\n",
        "            \r\n",
        "\r\n",
        "alphabi = {'a', 'b', '/'}\r\n",
        "\r\n",
        "states = {1:{'a':1, 'b':2, '/':4},\r\n",
        "       2:{'a':1, 'b':2, '/':3},\r\n",
        "       3:{'a':2, 'b':4, '/':3},\r\n",
        "       4:{'a':1, 'b':1, '/':1}}\r\n",
        "\r\n",
        "    \r\n",
        "REX = Acceptor()\r\n",
        "#True or False\r\n",
        "print(REX.accept(['a','/','b']))\r\n",
        "print(REX.accept(['a','/']))\r\n",
        "print(REX.accept(['a','b','/','b']))\r\n"
      ],
      "execution_count": 1,
      "outputs": [
        {
          "output_type": "stream",
          "text": [
            "False\n",
            "True\n",
            "True\n"
          ],
          "name": "stdout"
        }
      ]
    }
  ]
}